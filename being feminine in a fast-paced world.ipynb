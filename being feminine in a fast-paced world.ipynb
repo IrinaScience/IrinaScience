{
 "cells": [
  {
   "cell_type": "code",
   "execution_count": 1,
   "id": "6dc4abe6",
   "metadata": {},
   "outputs": [],
   "source": [
    "%matplotlib inline"
   ]
  },
  {
   "cell_type": "code",
   "execution_count": 2,
   "id": "110a9359",
   "metadata": {},
   "outputs": [],
   "source": [
    "import numpy as np\n",
    "import pandas as pd\n",
    "import matplotlib.pyplot as plt"
   ]
  },
  {
   "cell_type": "markdown",
   "id": "bdd3476a",
   "metadata": {},
   "source": [
    "<p style = \"font-size: 13px; color: mediumvioletred; text-align: right\" > Autumn 2024"
   ]
  },
  {
   "cell_type": "markdown",
   "id": "ae45571d",
   "metadata": {},
   "source": [
    "<p style = \"font-size: 22px; color: mediumvioletred; text-align: center\" > being feminine in a fast-paced world"
   ]
  },
  {
   "cell_type": "markdown",
   "id": "5d03b47b",
   "metadata": {},
   "source": [
    "<p style = \"font-size: 16px; color: mediumvioletred; text-align: center\" > by Irina Nedyalkova"
   ]
  },
  {
   "cell_type": "markdown",
   "id": "3c6c27c4",
   "metadata": {},
   "source": [
    "Is there place for femininity in the tech world or is it a 15 minutes thing? We do feminine melting, reshaping individuality from a wide format to a long format. Pardon, short format. One is for sure, I can not express myself in 15, 10 or 5 minutes. It has been required to fold my entire cosmos in a tiny origami. Did not go well. To do things fast is a men quality, they are great at this! Women need a liiittle more time to unroll. We have perfection, when both personalities fuse, and a mess, when we try to adapt something that is not adaptable."
   ]
  },
  {
   "cell_type": "markdown",
   "id": "5df95d69",
   "metadata": {},
   "source": [
    "> In Ralph Waldo Emerson words: \"Adopt the pace of nature. Her secret is patience.\""
   ]
  },
  {
   "cell_type": "markdown",
   "id": "045fb22b",
   "metadata": {},
   "source": [
    "No time for patience here! We must develop Artificial Intelligence! After 2 job interviews at tech companies, I just start feeling like a robot. \"There are 1000 people working for us in the Bulgarian office.\" Oh! Eventually, I would be the 1001. Double Oh! \"There are not executives on place, just one.\" Trioh!"
   ]
  },
  {
   "cell_type": "markdown",
   "id": "20474d8d",
   "metadata": {},
   "source": [
    "> “The factory of the future will have only two employees, a man and a dog. The man will be there to feed the dog. The dog will be there to keep the man off from touching the machines.” Warren G. Bennis"
   ]
  },
  {
   "cell_type": "markdown",
   "id": "927f393b",
   "metadata": {},
   "source": [
    "This Bulgarian office reminds me of 1000 thousand machines and a dog. I am more a start-up fan, believing in people and ideas, where the romantic in business still exists and the target is happiness."
   ]
  },
  {
   "cell_type": "markdown",
   "id": "54758b5d",
   "metadata": {},
   "source": [
    "Warren G. Bennis is one of the world's leading experts on leadership, consultant and writer. Professor Bennis has been an advisor to four U.S. presidents, including John F. Kennedy and Ronald Reagan. Artificial Intelligence has been around in various forms since the English mathematician Alan Turing gave a lecture on the subject in 1947 and Warren Bennis predicted the XXI century in 1991. So, why that hurry?"
   ]
  },
  {
   "cell_type": "markdown",
   "id": "91ddd229",
   "metadata": {},
   "source": [
    "> \"Too many companies believe people are interchangeable. Truly gifted people never are. They have unique talents. Such people cannot be forced into roles they are not suited for, nor should they be. Effective leaders allow great people to do the work they were born to do.\" Organizing Genius: The Secrets of Creative Collaboration, Warren G. Bennis"
   ]
  },
  {
   "cell_type": "markdown",
   "id": "b03cbb9a",
   "metadata": {},
   "source": [
    "I still want to find my place in the tech world. I am curious about! Personally, do not own many technologies, just the essentials, but my whole life I am listening to techno music, finding my peace in the deepest bass sound. So, where do I find peace in the tech world?"
   ]
  },
  {
   "cell_type": "markdown",
   "id": "8a7a922d",
   "metadata": {},
   "source": [
    "Due to the World Health Organization, infertility is a disease of the male or female reproductive system, defined by the failure to achieve a pregnancy after 12 months or more of regular unprotected sexual intercourse, 1 in 6 people is globally affected. Confusion occurs in the laws of nature when placing women in a dude-like environment (if they do not belong there) and men, following a forewoman's orders (if they do not belong there). We are speaking from lifeforce energy and vitality. Our bodies never lie! If we have some itchy emotions, we are at the wrong place."
   ]
  },
  {
   "cell_type": "markdown",
   "id": "00d49ffc",
   "metadata": {},
   "source": [
    "The data, I will present, belongs to the National Center for Health Statistics of the United States Government:"
   ]
  },
  {
   "cell_type": "code",
   "execution_count": 3,
   "id": "61b26c37",
   "metadata": {},
   "outputs": [],
   "source": [
    "tables = pd.read_html(r\"https://www.cdc.gov/nchs/nsfg/key_statistics/i-keystat.htm#infertility\")"
   ]
  },
  {
   "cell_type": "markdown",
   "id": "1a7c2022",
   "metadata": {},
   "source": [
    "There are 11 tables, I will choose some of them."
   ]
  },
  {
   "cell_type": "code",
   "execution_count": 4,
   "id": "639bafc0",
   "metadata": {},
   "outputs": [
    {
     "data": {
      "text/html": [
       "<div>\n",
       "<style scoped>\n",
       "    .dataframe tbody tr th:only-of-type {\n",
       "        vertical-align: middle;\n",
       "    }\n",
       "\n",
       "    .dataframe tbody tr th {\n",
       "        vertical-align: top;\n",
       "    }\n",
       "\n",
       "    .dataframe thead tr th {\n",
       "        text-align: left;\n",
       "    }\n",
       "</style>\n",
       "<table border=\"1\" class=\"dataframe\">\n",
       "  <thead>\n",
       "    <tr>\n",
       "      <th></th>\n",
       "      <th>Unnamed: 0_level_0</th>\n",
       "      <th colspan=\"2\" halign=\"left\">2015-2019</th>\n",
       "    </tr>\n",
       "    <tr>\n",
       "      <th></th>\n",
       "      <th>Unnamed: 0_level_1</th>\n",
       "      <th>Percent (SE), Number</th>\n",
       "      <th>Percent (SE), Number.1</th>\n",
       "    </tr>\n",
       "  </thead>\n",
       "  <tbody>\n",
       "    <tr>\n",
       "      <th>0</th>\n",
       "      <td>Percentage and number of women 15-49 years of ...</td>\n",
       "      <td>13.4 (0.41), 9.7 million</td>\n",
       "      <td>NaN</td>\n",
       "    </tr>\n",
       "  </tbody>\n",
       "</table>\n",
       "</div>"
      ],
      "text/plain": [
       "                                  Unnamed: 0_level_0  \\\n",
       "                                  Unnamed: 0_level_1   \n",
       "0  Percentage and number of women 15-49 years of ...   \n",
       "\n",
       "                  2015-2019                         \n",
       "       Percent (SE), Number Percent (SE), Number.1  \n",
       "0  13.4 (0.41), 9.7 million                    NaN  "
      ]
     },
     "execution_count": 4,
     "metadata": {},
     "output_type": "execute_result"
    }
   ],
   "source": [
    "tables[0]"
   ]
  },
  {
   "cell_type": "code",
   "execution_count": 5,
   "id": "73259db0",
   "metadata": {},
   "outputs": [
    {
     "data": {
      "text/html": [
       "<div>\n",
       "<style scoped>\n",
       "    .dataframe tbody tr th:only-of-type {\n",
       "        vertical-align: middle;\n",
       "    }\n",
       "\n",
       "    .dataframe tbody tr th {\n",
       "        vertical-align: top;\n",
       "    }\n",
       "\n",
       "    .dataframe thead tr th {\n",
       "        text-align: left;\n",
       "    }\n",
       "</style>\n",
       "<table border=\"1\" class=\"dataframe\">\n",
       "  <thead>\n",
       "    <tr>\n",
       "      <th></th>\n",
       "      <th>Unnamed: 0_level_0</th>\n",
       "      <th colspan=\"2\" halign=\"left\">2015-2019</th>\n",
       "    </tr>\n",
       "    <tr>\n",
       "      <th></th>\n",
       "      <th>Unnamed: 0_level_1</th>\n",
       "      <th>0 births</th>\n",
       "      <th>1 or more births</th>\n",
       "    </tr>\n",
       "    <tr>\n",
       "      <th></th>\n",
       "      <th>Unnamed: 0_level_2</th>\n",
       "      <th>Percent (SE)</th>\n",
       "      <th>Percent (SE)</th>\n",
       "    </tr>\n",
       "  </thead>\n",
       "  <tbody>\n",
       "    <tr>\n",
       "      <th>0</th>\n",
       "      <td>Total 15-49 years</td>\n",
       "      <td>13.8 (0.72)</td>\n",
       "      <td>13.1 (0.57)</td>\n",
       "    </tr>\n",
       "    <tr>\n",
       "      <th>1</th>\n",
       "      <td>15-29 years</td>\n",
       "      <td>9.2 (0.74)</td>\n",
       "      <td>12.0 (1.16)</td>\n",
       "    </tr>\n",
       "    <tr>\n",
       "      <th>2</th>\n",
       "      <td>30-39 years</td>\n",
       "      <td>22.2 (2.35)</td>\n",
       "      <td>12.2 (0.84)</td>\n",
       "    </tr>\n",
       "    <tr>\n",
       "      <th>3</th>\n",
       "      <td>40-49 years</td>\n",
       "      <td>33.4 (3.48)</td>\n",
       "      <td>14.5 (1.17)</td>\n",
       "    </tr>\n",
       "  </tbody>\n",
       "</table>\n",
       "</div>"
      ],
      "text/plain": [
       "  Unnamed: 0_level_0    2015-2019                 \n",
       "  Unnamed: 0_level_1     0 births 1 or more births\n",
       "  Unnamed: 0_level_2 Percent (SE)     Percent (SE)\n",
       "0  Total 15-49 years  13.8 (0.72)      13.1 (0.57)\n",
       "1        15-29 years   9.2 (0.74)      12.0 (1.16)\n",
       "2        30-39 years  22.2 (2.35)      12.2 (0.84)\n",
       "3        40-49 years  33.4 (3.48)      14.5 (1.17)"
      ]
     },
     "execution_count": 5,
     "metadata": {},
     "output_type": "execute_result"
    }
   ],
   "source": [
    "tables[1]"
   ]
  },
  {
   "cell_type": "code",
   "execution_count": 6,
   "id": "fe2babb3",
   "metadata": {},
   "outputs": [
    {
     "data": {
      "text/html": [
       "<div>\n",
       "<style scoped>\n",
       "    .dataframe tbody tr th:only-of-type {\n",
       "        vertical-align: middle;\n",
       "    }\n",
       "\n",
       "    .dataframe tbody tr th {\n",
       "        vertical-align: top;\n",
       "    }\n",
       "\n",
       "    .dataframe thead tr th {\n",
       "        text-align: left;\n",
       "    }\n",
       "</style>\n",
       "<table border=\"1\" class=\"dataframe\">\n",
       "  <thead>\n",
       "    <tr>\n",
       "      <th></th>\n",
       "      <th>Unnamed: 0_level_0</th>\n",
       "      <th colspan=\"2\" halign=\"left\">2015-2019</th>\n",
       "    </tr>\n",
       "    <tr>\n",
       "      <th></th>\n",
       "      <th>Unnamed: 0_level_1</th>\n",
       "      <th>Percent (SE), Number</th>\n",
       "      <th>Percent (SE), Number.1</th>\n",
       "    </tr>\n",
       "  </thead>\n",
       "  <tbody>\n",
       "    <tr>\n",
       "      <th>0</th>\n",
       "      <td>Percentage and number of currently married wom...</td>\n",
       "      <td>16.3 (0.73), 4.7 million</td>\n",
       "      <td>NaN</td>\n",
       "    </tr>\n",
       "  </tbody>\n",
       "</table>\n",
       "</div>"
      ],
      "text/plain": [
       "                                  Unnamed: 0_level_0  \\\n",
       "                                  Unnamed: 0_level_1   \n",
       "0  Percentage and number of currently married wom...   \n",
       "\n",
       "                  2015-2019                         \n",
       "       Percent (SE), Number Percent (SE), Number.1  \n",
       "0  16.3 (0.73), 4.7 million                    NaN  "
      ]
     },
     "execution_count": 6,
     "metadata": {},
     "output_type": "execute_result"
    }
   ],
   "source": [
    "tables[2]"
   ]
  },
  {
   "cell_type": "code",
   "execution_count": 7,
   "id": "ba5f9b1b",
   "metadata": {},
   "outputs": [
    {
     "data": {
      "text/html": [
       "<div>\n",
       "<style scoped>\n",
       "    .dataframe tbody tr th:only-of-type {\n",
       "        vertical-align: middle;\n",
       "    }\n",
       "\n",
       "    .dataframe tbody tr th {\n",
       "        vertical-align: top;\n",
       "    }\n",
       "\n",
       "    .dataframe thead tr th {\n",
       "        text-align: left;\n",
       "    }\n",
       "</style>\n",
       "<table border=\"1\" class=\"dataframe\">\n",
       "  <thead>\n",
       "    <tr>\n",
       "      <th></th>\n",
       "      <th>Unnamed: 0_level_0</th>\n",
       "      <th colspan=\"2\" halign=\"left\">2015-2019</th>\n",
       "    </tr>\n",
       "    <tr>\n",
       "      <th></th>\n",
       "      <th>Unnamed: 0_level_1</th>\n",
       "      <th>0 births</th>\n",
       "      <th>1 or more births</th>\n",
       "    </tr>\n",
       "    <tr>\n",
       "      <th></th>\n",
       "      <th>Unnamed: 0_level_2</th>\n",
       "      <th>Percent (SE)</th>\n",
       "      <th>Percent (SE)</th>\n",
       "    </tr>\n",
       "  </thead>\n",
       "  <tbody>\n",
       "    <tr>\n",
       "      <th>0</th>\n",
       "      <td>Total 15-49 years</td>\n",
       "      <td>26.0 (2.03)</td>\n",
       "      <td>14.1 (0.90)</td>\n",
       "    </tr>\n",
       "    <tr>\n",
       "      <th>1</th>\n",
       "      <td>15-29 years</td>\n",
       "      <td>14.6 (2.74)</td>\n",
       "      <td>11.8 (1.77)</td>\n",
       "    </tr>\n",
       "    <tr>\n",
       "      <th>2</th>\n",
       "      <td>30-39 years</td>\n",
       "      <td>27.3 (4.03)</td>\n",
       "      <td>13.2 (1.28)</td>\n",
       "    </tr>\n",
       "    <tr>\n",
       "      <th>3</th>\n",
       "      <td>40-49 years</td>\n",
       "      <td>43.3 (5.08)</td>\n",
       "      <td>15.6 (1.68)</td>\n",
       "    </tr>\n",
       "  </tbody>\n",
       "</table>\n",
       "</div>"
      ],
      "text/plain": [
       "  Unnamed: 0_level_0    2015-2019                 \n",
       "  Unnamed: 0_level_1     0 births 1 or more births\n",
       "  Unnamed: 0_level_2 Percent (SE)     Percent (SE)\n",
       "0  Total 15-49 years  26.0 (2.03)      14.1 (0.90)\n",
       "1        15-29 years  14.6 (2.74)      11.8 (1.77)\n",
       "2        30-39 years  27.3 (4.03)      13.2 (1.28)\n",
       "3        40-49 years  43.3 (5.08)      15.6 (1.68)"
      ]
     },
     "execution_count": 7,
     "metadata": {},
     "output_type": "execute_result"
    }
   ],
   "source": [
    "tables[3]"
   ]
  },
  {
   "cell_type": "code",
   "execution_count": 8,
   "id": "3f8d795b",
   "metadata": {},
   "outputs": [
    {
     "data": {
      "text/html": [
       "<div>\n",
       "<style scoped>\n",
       "    .dataframe tbody tr th:only-of-type {\n",
       "        vertical-align: middle;\n",
       "    }\n",
       "\n",
       "    .dataframe tbody tr th {\n",
       "        vertical-align: top;\n",
       "    }\n",
       "\n",
       "    .dataframe thead tr th {\n",
       "        text-align: left;\n",
       "    }\n",
       "</style>\n",
       "<table border=\"1\" class=\"dataframe\">\n",
       "  <thead>\n",
       "    <tr>\n",
       "      <th></th>\n",
       "      <th>Unnamed: 0_level_0</th>\n",
       "      <th colspan=\"2\" halign=\"left\">2015-2019</th>\n",
       "    </tr>\n",
       "    <tr>\n",
       "      <th></th>\n",
       "      <th>Unnamed: 0_level_1</th>\n",
       "      <th>Percent (SE), Number</th>\n",
       "      <th>Percent (SE), Number.1</th>\n",
       "    </tr>\n",
       "  </thead>\n",
       "  <tbody>\n",
       "    <tr>\n",
       "      <th>0</th>\n",
       "      <td>Percentage and number of currently married wom...</td>\n",
       "      <td>8.5 (0.65), 2.4 million</td>\n",
       "      <td>NaN</td>\n",
       "    </tr>\n",
       "  </tbody>\n",
       "</table>\n",
       "</div>"
      ],
      "text/plain": [
       "                                  Unnamed: 0_level_0                2015-2019  \\\n",
       "                                  Unnamed: 0_level_1     Percent (SE), Number   \n",
       "0  Percentage and number of currently married wom...  8.5 (0.65), 2.4 million   \n",
       "\n",
       "                          \n",
       "  Percent (SE), Number.1  \n",
       "0                    NaN  "
      ]
     },
     "execution_count": 8,
     "metadata": {},
     "output_type": "execute_result"
    }
   ],
   "source": [
    "tables[4]"
   ]
  },
  {
   "cell_type": "code",
   "execution_count": 9,
   "id": "c3013052",
   "metadata": {},
   "outputs": [
    {
     "data": {
      "text/html": [
       "<div>\n",
       "<style scoped>\n",
       "    .dataframe tbody tr th:only-of-type {\n",
       "        vertical-align: middle;\n",
       "    }\n",
       "\n",
       "    .dataframe tbody tr th {\n",
       "        vertical-align: top;\n",
       "    }\n",
       "\n",
       "    .dataframe thead tr th {\n",
       "        text-align: left;\n",
       "    }\n",
       "</style>\n",
       "<table border=\"1\" class=\"dataframe\">\n",
       "  <thead>\n",
       "    <tr>\n",
       "      <th></th>\n",
       "      <th>Unnamed: 0_level_0</th>\n",
       "      <th colspan=\"2\" halign=\"left\">2015-2019</th>\n",
       "    </tr>\n",
       "    <tr>\n",
       "      <th></th>\n",
       "      <th>Unnamed: 0_level_1</th>\n",
       "      <th>0 births</th>\n",
       "      <th>1 or more births</th>\n",
       "    </tr>\n",
       "    <tr>\n",
       "      <th></th>\n",
       "      <th>Unnamed: 0_level_2</th>\n",
       "      <th>Percent (SE)</th>\n",
       "      <th>Percent (SE)</th>\n",
       "    </tr>\n",
       "  </thead>\n",
       "  <tbody>\n",
       "    <tr>\n",
       "      <th>0</th>\n",
       "      <td>Total 15-49 years</td>\n",
       "      <td>19.4 (1.92)</td>\n",
       "      <td>6.0 (0.64)</td>\n",
       "    </tr>\n",
       "    <tr>\n",
       "      <th>1</th>\n",
       "      <td>15-29 years</td>\n",
       "      <td>12.6 (3.01)</td>\n",
       "      <td>5.1 (1.16)</td>\n",
       "    </tr>\n",
       "    <tr>\n",
       "      <th>2</th>\n",
       "      <td>30-39 years</td>\n",
       "      <td>22.1 (3.33)</td>\n",
       "      <td>5.7 (0.88)</td>\n",
       "    </tr>\n",
       "    <tr>\n",
       "      <th>3</th>\n",
       "      <td>40-49 years</td>\n",
       "      <td>26.8 (4.50)</td>\n",
       "      <td>6.5 (1.13)</td>\n",
       "    </tr>\n",
       "  </tbody>\n",
       "</table>\n",
       "</div>"
      ],
      "text/plain": [
       "  Unnamed: 0_level_0    2015-2019                 \n",
       "  Unnamed: 0_level_1     0 births 1 or more births\n",
       "  Unnamed: 0_level_2 Percent (SE)     Percent (SE)\n",
       "0  Total 15-49 years  19.4 (1.92)       6.0 (0.64)\n",
       "1        15-29 years  12.6 (3.01)       5.1 (1.16)\n",
       "2        30-39 years  22.1 (3.33)       5.7 (0.88)\n",
       "3        40-49 years  26.8 (4.50)       6.5 (1.13)"
      ]
     },
     "execution_count": 9,
     "metadata": {},
     "output_type": "execute_result"
    }
   ],
   "source": [
    "tables[5]"
   ]
  },
  {
   "cell_type": "code",
   "execution_count": 10,
   "id": "da49f496",
   "metadata": {},
   "outputs": [
    {
     "data": {
      "text/html": [
       "<div>\n",
       "<style scoped>\n",
       "    .dataframe tbody tr th:only-of-type {\n",
       "        vertical-align: middle;\n",
       "    }\n",
       "\n",
       "    .dataframe tbody tr th {\n",
       "        vertical-align: top;\n",
       "    }\n",
       "\n",
       "    .dataframe thead tr th {\n",
       "        text-align: left;\n",
       "    }\n",
       "</style>\n",
       "<table border=\"1\" class=\"dataframe\">\n",
       "  <thead>\n",
       "    <tr>\n",
       "      <th></th>\n",
       "      <th>Unnamed: 0_level_0</th>\n",
       "      <th>2015-2019</th>\n",
       "    </tr>\n",
       "    <tr>\n",
       "      <th></th>\n",
       "      <th>Unnamed: 0_level_1</th>\n",
       "      <th>Percent (SE)</th>\n",
       "    </tr>\n",
       "  </thead>\n",
       "  <tbody>\n",
       "    <tr>\n",
       "      <th>0</th>\n",
       "      <td>Percentage of women 15-49 years of age who hav...</td>\n",
       "      <td>12.2 (0.59)</td>\n",
       "    </tr>\n",
       "  </tbody>\n",
       "</table>\n",
       "</div>"
      ],
      "text/plain": [
       "                                  Unnamed: 0_level_0    2015-2019\n",
       "                                  Unnamed: 0_level_1 Percent (SE)\n",
       "0  Percentage of women 15-49 years of age who hav...  12.2 (0.59)"
      ]
     },
     "execution_count": 10,
     "metadata": {},
     "output_type": "execute_result"
    }
   ],
   "source": [
    "tables[6]"
   ]
  },
  {
   "cell_type": "code",
   "execution_count": 11,
   "id": "7af77a64",
   "metadata": {},
   "outputs": [
    {
     "data": {
      "text/html": [
       "<div>\n",
       "<style scoped>\n",
       "    .dataframe tbody tr th:only-of-type {\n",
       "        vertical-align: middle;\n",
       "    }\n",
       "\n",
       "    .dataframe tbody tr th {\n",
       "        vertical-align: top;\n",
       "    }\n",
       "\n",
       "    .dataframe thead tr th {\n",
       "        text-align: left;\n",
       "    }\n",
       "</style>\n",
       "<table border=\"1\" class=\"dataframe\">\n",
       "  <thead>\n",
       "    <tr>\n",
       "      <th></th>\n",
       "      <th>Unnamed: 0_level_0</th>\n",
       "      <th>2015-2019</th>\n",
       "    </tr>\n",
       "    <tr>\n",
       "      <th></th>\n",
       "      <th>Unnamed: 0_level_1</th>\n",
       "      <th>Percent (SE)</th>\n",
       "    </tr>\n",
       "  </thead>\n",
       "  <tbody>\n",
       "    <tr>\n",
       "      <th>0</th>\n",
       "      <td>Medical help to get pregnant</td>\n",
       "      <td>8.9 (0.49)</td>\n",
       "    </tr>\n",
       "    <tr>\n",
       "      <th>1</th>\n",
       "      <td>Advice</td>\n",
       "      <td>6.7 (0.40)</td>\n",
       "    </tr>\n",
       "    <tr>\n",
       "      <th>2</th>\n",
       "      <td>Tests on woman or man</td>\n",
       "      <td>5.6 (0.40)</td>\n",
       "    </tr>\n",
       "    <tr>\n",
       "      <th>3</th>\n",
       "      <td>Ovulation drugs</td>\n",
       "      <td>4.0 (0.26)</td>\n",
       "    </tr>\n",
       "    <tr>\n",
       "      <th>4</th>\n",
       "      <td>Surgery to treatment on blocked tubes</td>\n",
       "      <td>0.7 (0.12)</td>\n",
       "    </tr>\n",
       "    <tr>\n",
       "      <th>5</th>\n",
       "      <td>Artificial insemination</td>\n",
       "      <td>1.7 (0.17)</td>\n",
       "    </tr>\n",
       "    <tr>\n",
       "      <th>6</th>\n",
       "      <td>Assisted Reproductive Technology</td>\n",
       "      <td>0.5 (0.10)</td>\n",
       "    </tr>\n",
       "    <tr>\n",
       "      <th>7</th>\n",
       "      <td>Any medical help to prevent miscarriage</td>\n",
       "      <td>5.2 (0.41)</td>\n",
       "    </tr>\n",
       "  </tbody>\n",
       "</table>\n",
       "</div>"
      ],
      "text/plain": [
       "                        Unnamed: 0_level_0    2015-2019\n",
       "                        Unnamed: 0_level_1 Percent (SE)\n",
       "0             Medical help to get pregnant   8.9 (0.49)\n",
       "1                                   Advice   6.7 (0.40)\n",
       "2                    Tests on woman or man   5.6 (0.40)\n",
       "3                          Ovulation drugs   4.0 (0.26)\n",
       "4    Surgery to treatment on blocked tubes   0.7 (0.12)\n",
       "5                  Artificial insemination   1.7 (0.17)\n",
       "6         Assisted Reproductive Technology   0.5 (0.10)\n",
       "7  Any medical help to prevent miscarriage   5.2 (0.41)"
      ]
     },
     "execution_count": 11,
     "metadata": {},
     "output_type": "execute_result"
    }
   ],
   "source": [
    "tables[7]"
   ]
  },
  {
   "cell_type": "code",
   "execution_count": 12,
   "id": "76418df1",
   "metadata": {},
   "outputs": [
    {
     "data": {
      "text/html": [
       "<div>\n",
       "<style scoped>\n",
       "    .dataframe tbody tr th:only-of-type {\n",
       "        vertical-align: middle;\n",
       "    }\n",
       "\n",
       "    .dataframe tbody tr th {\n",
       "        vertical-align: top;\n",
       "    }\n",
       "\n",
       "    .dataframe thead tr th {\n",
       "        text-align: left;\n",
       "    }\n",
       "</style>\n",
       "<table border=\"1\" class=\"dataframe\">\n",
       "  <thead>\n",
       "    <tr>\n",
       "      <th></th>\n",
       "      <th>Unnamed: 0_level_0</th>\n",
       "      <th colspan=\"2\" halign=\"left\">2015-2019</th>\n",
       "    </tr>\n",
       "    <tr>\n",
       "      <th></th>\n",
       "      <th>Unnamed: 0_level_1</th>\n",
       "      <th>0 births</th>\n",
       "      <th>1 or more births</th>\n",
       "    </tr>\n",
       "    <tr>\n",
       "      <th></th>\n",
       "      <th>Unnamed: 0_level_2</th>\n",
       "      <th>Percent (SE)</th>\n",
       "      <th>Percent (SE)</th>\n",
       "    </tr>\n",
       "  </thead>\n",
       "  <tbody>\n",
       "    <tr>\n",
       "      <th>0</th>\n",
       "      <td>Total 15-49 years</td>\n",
       "      <td>6.4 (0.53)</td>\n",
       "      <td>16.6 (0.87)</td>\n",
       "    </tr>\n",
       "    <tr>\n",
       "      <th>1</th>\n",
       "      <td>15-29 years</td>\n",
       "      <td>2.7 (0.40)</td>\n",
       "      <td>11.5 (1.49)</td>\n",
       "    </tr>\n",
       "    <tr>\n",
       "      <th>2</th>\n",
       "      <td>30-39 years</td>\n",
       "      <td>13.6 (1.89)</td>\n",
       "      <td>15.5 (1.13)</td>\n",
       "    </tr>\n",
       "    <tr>\n",
       "      <th>3</th>\n",
       "      <td>40-49 years</td>\n",
       "      <td>21.8 (2.89)</td>\n",
       "      <td>20.0 (1.54)</td>\n",
       "    </tr>\n",
       "  </tbody>\n",
       "</table>\n",
       "</div>"
      ],
      "text/plain": [
       "  Unnamed: 0_level_0    2015-2019                 \n",
       "  Unnamed: 0_level_1     0 births 1 or more births\n",
       "  Unnamed: 0_level_2 Percent (SE)     Percent (SE)\n",
       "0  Total 15-49 years   6.4 (0.53)      16.6 (0.87)\n",
       "1        15-29 years   2.7 (0.40)      11.5 (1.49)\n",
       "2        30-39 years  13.6 (1.89)      15.5 (1.13)\n",
       "3        40-49 years  21.8 (2.89)      20.0 (1.54)"
      ]
     },
     "execution_count": 12,
     "metadata": {},
     "output_type": "execute_result"
    }
   ],
   "source": [
    "tables[8]"
   ]
  },
  {
   "cell_type": "code",
   "execution_count": 13,
   "id": "fff7a275",
   "metadata": {},
   "outputs": [
    {
     "data": {
      "text/html": [
       "<div>\n",
       "<style scoped>\n",
       "    .dataframe tbody tr th:only-of-type {\n",
       "        vertical-align: middle;\n",
       "    }\n",
       "\n",
       "    .dataframe tbody tr th {\n",
       "        vertical-align: top;\n",
       "    }\n",
       "\n",
       "    .dataframe thead tr th {\n",
       "        text-align: left;\n",
       "    }\n",
       "</style>\n",
       "<table border=\"1\" class=\"dataframe\">\n",
       "  <thead>\n",
       "    <tr>\n",
       "      <th></th>\n",
       "      <th>Unnamed: 0_level_0</th>\n",
       "      <th>2015-2017</th>\n",
       "      <th>2017-2019</th>\n",
       "    </tr>\n",
       "    <tr>\n",
       "      <th></th>\n",
       "      <th>Unnamed: 0_level_1</th>\n",
       "      <th>Percent (SE)</th>\n",
       "      <th>Percent (SE)</th>\n",
       "    </tr>\n",
       "  </thead>\n",
       "  <tbody>\n",
       "    <tr>\n",
       "      <th>0</th>\n",
       "      <td>Intended (i.e., pregnancy that the woman wante...</td>\n",
       "      <td>63.3 (1.16)</td>\n",
       "      <td>62.0 (1.04)</td>\n",
       "    </tr>\n",
       "    <tr>\n",
       "      <th>1</th>\n",
       "      <td>Mistimed (i.e., pregnancy that the woman wante...</td>\n",
       "      <td>22.9 (0.68)</td>\n",
       "      <td>22.4 (0.74)</td>\n",
       "    </tr>\n",
       "    <tr>\n",
       "      <th>2</th>\n",
       "      <td>Mistimed – Less than 2 years too soon</td>\n",
       "      <td>6.8 (0.48)</td>\n",
       "      <td>7.1 (0.41)</td>\n",
       "    </tr>\n",
       "    <tr>\n",
       "      <th>3</th>\n",
       "      <td>Mistimed – 2 years or more too soon</td>\n",
       "      <td>15.7 (0.70)</td>\n",
       "      <td>15.2 (0.72)</td>\n",
       "    </tr>\n",
       "    <tr>\n",
       "      <th>4</th>\n",
       "      <td>Unwanted (i.e., pregnancy that the woman did n...</td>\n",
       "      <td>13.8 (0.85)</td>\n",
       "      <td>15.7 (0.89)</td>\n",
       "    </tr>\n",
       "  </tbody>\n",
       "</table>\n",
       "</div>"
      ],
      "text/plain": [
       "                                  Unnamed: 0_level_0    2015-2017    2017-2019\n",
       "                                  Unnamed: 0_level_1 Percent (SE) Percent (SE)\n",
       "0  Intended (i.e., pregnancy that the woman wante...  63.3 (1.16)  62.0 (1.04)\n",
       "1  Mistimed (i.e., pregnancy that the woman wante...  22.9 (0.68)  22.4 (0.74)\n",
       "2              Mistimed – Less than 2 years too soon   6.8 (0.48)   7.1 (0.41)\n",
       "3                Mistimed – 2 years or more too soon  15.7 (0.70)  15.2 (0.72)\n",
       "4  Unwanted (i.e., pregnancy that the woman did n...  13.8 (0.85)  15.7 (0.89)"
      ]
     },
     "execution_count": 13,
     "metadata": {},
     "output_type": "execute_result"
    }
   ],
   "source": [
    "tables[9]"
   ]
  },
  {
   "cell_type": "code",
   "execution_count": 14,
   "id": "f11dea23",
   "metadata": {},
   "outputs": [
    {
     "data": {
      "text/html": [
       "<div>\n",
       "<style scoped>\n",
       "    .dataframe tbody tr th:only-of-type {\n",
       "        vertical-align: middle;\n",
       "    }\n",
       "\n",
       "    .dataframe tbody tr th {\n",
       "        vertical-align: top;\n",
       "    }\n",
       "\n",
       "    .dataframe thead tr th {\n",
       "        text-align: left;\n",
       "    }\n",
       "</style>\n",
       "<table border=\"1\" class=\"dataframe\">\n",
       "  <thead>\n",
       "    <tr>\n",
       "      <th></th>\n",
       "      <th>Unnamed: 0_level_0</th>\n",
       "      <th>2015-2017</th>\n",
       "      <th>2017-2019</th>\n",
       "    </tr>\n",
       "    <tr>\n",
       "      <th></th>\n",
       "      <th>Unnamed: 0_level_1</th>\n",
       "      <th>Percent (SE)</th>\n",
       "      <th>Percent (SE)</th>\n",
       "    </tr>\n",
       "  </thead>\n",
       "  <tbody>\n",
       "    <tr>\n",
       "      <th>0</th>\n",
       "      <td>Intended (i.e., pregnancy that the man wanted ...</td>\n",
       "      <td>70.3 (2.32)</td>\n",
       "      <td>68.8 (1.16)</td>\n",
       "    </tr>\n",
       "    <tr>\n",
       "      <th>1</th>\n",
       "      <td>Mistimed (i.e., pregnancy that the man wanted ...</td>\n",
       "      <td>18.4 (1.89)</td>\n",
       "      <td>19.0 (0.88)</td>\n",
       "    </tr>\n",
       "    <tr>\n",
       "      <th>2</th>\n",
       "      <td>Unwanted (i.e., pregnancy that the man did not...</td>\n",
       "      <td>11.3 (1.60)</td>\n",
       "      <td>12.2 (0.94)</td>\n",
       "    </tr>\n",
       "  </tbody>\n",
       "</table>\n",
       "</div>"
      ],
      "text/plain": [
       "                                  Unnamed: 0_level_0    2015-2017    2017-2019\n",
       "                                  Unnamed: 0_level_1 Percent (SE) Percent (SE)\n",
       "0  Intended (i.e., pregnancy that the man wanted ...  70.3 (2.32)  68.8 (1.16)\n",
       "1  Mistimed (i.e., pregnancy that the man wanted ...  18.4 (1.89)  19.0 (0.88)\n",
       "2  Unwanted (i.e., pregnancy that the man did not...  11.3 (1.60)  12.2 (0.94)"
      ]
     },
     "execution_count": 14,
     "metadata": {},
     "output_type": "execute_result"
    }
   ],
   "source": [
    "tables[10]"
   ]
  },
  {
   "cell_type": "markdown",
   "id": "f133e85f",
   "metadata": {},
   "source": [
    "<p style=\"text-align: left; color: gray\"> ...data need to be structured, more follows soon"
   ]
  },
  {
   "cell_type": "markdown",
   "id": "048ef5f1",
   "metadata": {},
   "source": [
    "References:\n",
    "1. Data: https://www.cdc.gov/nchs/nsfg/key_statistics/i-keystat.htm#infertility"
   ]
  }
 ],
 "metadata": {
  "kernelspec": {
   "display_name": "Python 3 (ipykernel)",
   "language": "python",
   "name": "python3"
  },
  "language_info": {
   "codemirror_mode": {
    "name": "ipython",
    "version": 3
   },
   "file_extension": ".py",
   "mimetype": "text/x-python",
   "name": "python",
   "nbconvert_exporter": "python",
   "pygments_lexer": "ipython3",
   "version": "3.9.13"
  }
 },
 "nbformat": 4,
 "nbformat_minor": 5
}
