{
 "cells": [
  {
   "cell_type": "code",
   "execution_count": 1,
   "id": "6dc4abe6",
   "metadata": {},
   "outputs": [],
   "source": [
    "%matplotlib inline"
   ]
  },
  {
   "cell_type": "code",
   "execution_count": 2,
   "id": "110a9359",
   "metadata": {},
   "outputs": [],
   "source": [
    "import numpy as np\n",
    "import pandas as pd\n",
    "import seaborn as sns\n",
    "import matplotlib.pyplot as plt"
   ]
  },
  {
   "cell_type": "markdown",
   "id": "bdd3476a",
   "metadata": {},
   "source": [
    "<p style = \"font-size: 13px; color: mediumvioletred; text-align: right\" > September 2024"
   ]
  },
  {
   "cell_type": "markdown",
   "id": "ae45571d",
   "metadata": {},
   "source": [
    "<p style = \"font-size: 22px; color: mediumvioletred; text-align: center\" > being feminine in the AI world"
   ]
  },
  {
   "cell_type": "markdown",
   "id": "5d03b47b",
   "metadata": {},
   "source": [
    "<p style = \"font-size: 16px; color: mediumvioletred; text-align: center\" > by Irina Nedyalkova"
   ]
  },
  {
   "cell_type": "markdown",
   "id": "3c6c27c4",
   "metadata": {},
   "source": [
    "Is there place for femininity in the AI world or is it a 15 minutes thing? We do feminine melting, reshaping individuality from a wide format to a long format. Pardon, short format. One is for sure, I can not express myself in 15, 10 or 5 minutes. It has been required to fold my entire cosmos in a tiny origami. Never went well. To do things fast is a men quality, they are great at this! Women need a liiittle more time to unroll. We have perfection, when both personalities fuse, and a mess, when we try to adapt something that is not adaptable."
   ]
  },
  {
   "cell_type": "markdown",
   "id": "045fb22b",
   "metadata": {},
   "source": [
    "After 2 job interviews at tech companies, I just start feeling like a robot. \"There are 1000 people working for us in the Bulgarian office.\" Oh! Eventually, I would be the 1001. Double Oh! \"There are not executives on place, just one.\" Trioh!"
   ]
  },
  {
   "cell_type": "markdown",
   "id": "20474d8d",
   "metadata": {},
   "source": [
    "> “The factory of the future will have only two employees, a man and a dog. The man will be there to feed the dog. The dog will be there to keep the man off from touching the machines.” Warren G. Bennis"
   ]
  },
  {
   "cell_type": "markdown",
   "id": "927f393b",
   "metadata": {},
   "source": [
    "This Bulgarian office reminds me of 1000 thousand machines and a dog. Doesn't feel good."
   ]
  },
  {
   "cell_type": "markdown",
   "id": "54758b5d",
   "metadata": {},
   "source": [
    "Warren G. Bennis was one of the world's leading experts on leadership, consultant and writer. He has been an advisor to four U.S. presidents, including John F. Kennedy and Ronald Reagan. Artificial Intelligence has been around in various forms since the English mathematician Alan Turing gave a lecture on the subject in 1947 and Warren Bennis predicted the XXI century in 1991."
   ]
  },
  {
   "cell_type": "markdown",
   "id": "91ddd229",
   "metadata": {},
   "source": [
    "> \"Too many companies believe people are interchangeable. Truly gifted people never are. They have unique talents. Such people cannot be forced into roles they are not suited for, nor should they be. Effective leaders allow great people to do the work they were born to do.\" Organizing Genius: The Secrets of Creative Collaboration, Warren G. Bennis"
   ]
  },
  {
   "cell_type": "markdown",
   "id": "b03cbb9a",
   "metadata": {},
   "source": [
    "I still want to find my place in the tech world. I am curious about! Personally, living among wood and paper, but listening my whole life to techno music, finding peace in the deepest sound of bass. So, where do I find peace in the tech world?"
   ]
  },
  {
   "cell_type": "markdown",
   "id": "8a7a922d",
   "metadata": {},
   "source": [
    "Due to the World Health Organization, infertility is a disease of the male or female reproductive system, defined by the failure to achieve a pregnancy after 12 months or more of regular unprotected sexual intercourse, 1 in 6 people is globally affected. Confusion occurs in the laws of nature when placing women in a dude-like environment (if they do not belong there) and men, following a forewoman's orders (if they do not belong there). We are speaking from lifeforce energy and vitality. Our bodies never lie! If we have some itchy emotions, we are at the wrong place."
   ]
  },
  {
   "cell_type": "markdown",
   "id": "0610fd5a",
   "metadata": {},
   "source": [
    "According to SingleCare’s infertility survey, 25% of couples do not know the cause of their fertility problems. Most, or all, researches are made around the question: How infertility affects the person and the professional system he/she is part of? But let us reverse the question: Is the professional environment, the cause of the infertility? Do our bodies feel in the right place and safe enough to create new life? "
   ]
  },
  {
   "cell_type": "markdown",
   "id": "00d49ffc",
   "metadata": {},
   "source": [
    "The data, I present, belongs to the National Center for Health Statistics of the United States Government:"
   ]
  },
  {
   "cell_type": "code",
   "execution_count": 3,
   "id": "61b26c37",
   "metadata": {},
   "outputs": [],
   "source": [
    "tables = pd.read_html(r\"https://www.cdc.gov/nchs/nsfg/key_statistics/i-keystat.htm#infertility\")"
   ]
  },
  {
   "cell_type": "markdown",
   "id": "1a7c2022",
   "metadata": {},
   "source": [
    "There are 11 tables, I will choose some of them."
   ]
  },
  {
   "cell_type": "code",
   "execution_count": 4,
   "id": "639bafc0",
   "metadata": {},
   "outputs": [
    {
     "data": {
      "text/html": [
       "<div>\n",
       "<style scoped>\n",
       "    .dataframe tbody tr th:only-of-type {\n",
       "        vertical-align: middle;\n",
       "    }\n",
       "\n",
       "    .dataframe tbody tr th {\n",
       "        vertical-align: top;\n",
       "    }\n",
       "\n",
       "    .dataframe thead th {\n",
       "        text-align: right;\n",
       "    }\n",
       "</style>\n",
       "<table border=\"1\" class=\"dataframe\">\n",
       "  <thead>\n",
       "    <tr style=\"text-align: right;\">\n",
       "      <th></th>\n",
       "      <th>Unnamed: 0_level_1</th>\n",
       "    </tr>\n",
       "  </thead>\n",
       "  <tbody>\n",
       "    <tr>\n",
       "      <th>0</th>\n",
       "      <td>Percentage and number of women 15-49 years of age (of all marital statuses) who have impaired fecundity (i.e., who are not surgically sterile, and for whom it is difficult or impossible to get pregnant or carry a pregnancy to term)</td>\n",
       "    </tr>\n",
       "  </tbody>\n",
       "</table>\n",
       "</div>"
      ],
      "text/plain": [
       "                                                                                                                                                                                                                        Unnamed: 0_level_1\n",
       "0  Percentage and number of women 15-49 years of age (of all marital statuses) who have impaired fecundity (i.e., who are not surgically sterile, and for whom it is difficult or impossible to get pregnant or carry a pregnancy to term)"
      ]
     },
     "execution_count": 4,
     "metadata": {},
     "output_type": "execute_result"
    }
   ],
   "source": [
    "pd.set_option(\"display.max_colwidth\", None) \n",
    "tables[0][\"Unnamed: 0_level_0\"]"
   ]
  },
  {
   "cell_type": "code",
   "execution_count": 5,
   "id": "643b65c4",
   "metadata": {},
   "outputs": [
    {
     "data": {
      "text/plain": [
       "MultiIndex([('Unnamed: 0_level_0',     'Unnamed: 0_level_1'),\n",
       "            (         '2015-2019',   'Percent (SE), Number'),\n",
       "            (         '2015-2019', 'Percent (SE), Number.1')],\n",
       "           )"
      ]
     },
     "execution_count": 5,
     "metadata": {},
     "output_type": "execute_result"
    }
   ],
   "source": [
    "tables[0].columns"
   ]
  },
  {
   "cell_type": "code",
   "execution_count": 6,
   "id": "adcae5da",
   "metadata": {},
   "outputs": [
    {
     "data": {
      "text/html": [
       "<div>\n",
       "<style scoped>\n",
       "    .dataframe tbody tr th:only-of-type {\n",
       "        vertical-align: middle;\n",
       "    }\n",
       "\n",
       "    .dataframe tbody tr th {\n",
       "        vertical-align: top;\n",
       "    }\n",
       "\n",
       "    .dataframe thead th {\n",
       "        text-align: right;\n",
       "    }\n",
       "</style>\n",
       "<table border=\"1\" class=\"dataframe\">\n",
       "  <thead>\n",
       "    <tr style=\"text-align: right;\">\n",
       "      <th></th>\n",
       "      <th>Percent (SE), Number</th>\n",
       "      <th>Percent (SE), Number.1</th>\n",
       "    </tr>\n",
       "  </thead>\n",
       "  <tbody>\n",
       "    <tr>\n",
       "      <th>0</th>\n",
       "      <td>13.4 (0.41), 9.7 million</td>\n",
       "      <td>NaN</td>\n",
       "    </tr>\n",
       "  </tbody>\n",
       "</table>\n",
       "</div>"
      ],
      "text/plain": [
       "       Percent (SE), Number  Percent (SE), Number.1\n",
       "0  13.4 (0.41), 9.7 million                     NaN"
      ]
     },
     "execution_count": 6,
     "metadata": {},
     "output_type": "execute_result"
    }
   ],
   "source": [
    "tables[0][\"2015-2019\"]"
   ]
  },
  {
   "cell_type": "code",
   "execution_count": 7,
   "id": "7c6fe75f",
   "metadata": {},
   "outputs": [],
   "source": [
    "table1 = pd.DataFrame({\"name of numbers in 2015-2019\": [\"Percentage and number of women 15-49 years of age (of all marital statuses) who have impaired fecundity (i.e., who are not surgically sterile, and for whom it is difficult or impossible to get pregnant or carry a pregnancy to term\"],\n",
    "              \"in percents\": [13.4], \"in millions\": [9.7]})"
   ]
  },
  {
   "cell_type": "markdown",
   "id": "e5262958",
   "metadata": {},
   "source": [
    "Above, the first table."
   ]
  },
  {
   "cell_type": "code",
   "execution_count": 8,
   "id": "fe2babb3",
   "metadata": {},
   "outputs": [
    {
     "data": {
      "text/html": [
       "<div>\n",
       "<style scoped>\n",
       "    .dataframe tbody tr th:only-of-type {\n",
       "        vertical-align: middle;\n",
       "    }\n",
       "\n",
       "    .dataframe tbody tr th {\n",
       "        vertical-align: top;\n",
       "    }\n",
       "\n",
       "    .dataframe thead tr th {\n",
       "        text-align: left;\n",
       "    }\n",
       "</style>\n",
       "<table border=\"1\" class=\"dataframe\">\n",
       "  <thead>\n",
       "    <tr>\n",
       "      <th></th>\n",
       "      <th>Unnamed: 0_level_0</th>\n",
       "      <th colspan=\"2\" halign=\"left\">2015-2019</th>\n",
       "    </tr>\n",
       "    <tr>\n",
       "      <th></th>\n",
       "      <th>Unnamed: 0_level_1</th>\n",
       "      <th>Percent (SE), Number</th>\n",
       "      <th>Percent (SE), Number.1</th>\n",
       "    </tr>\n",
       "  </thead>\n",
       "  <tbody>\n",
       "    <tr>\n",
       "      <th>0</th>\n",
       "      <td>Percentage and number of currently married women 15-49 years of age who have impaired fecundity</td>\n",
       "      <td>16.3 (0.73), 4.7 million</td>\n",
       "      <td>NaN</td>\n",
       "    </tr>\n",
       "  </tbody>\n",
       "</table>\n",
       "</div>"
      ],
      "text/plain": [
       "                                                                                Unnamed: 0_level_0  \\\n",
       "                                                                                Unnamed: 0_level_1   \n",
       "0  Percentage and number of currently married women 15-49 years of age who have impaired fecundity   \n",
       "\n",
       "                  2015-2019                         \n",
       "       Percent (SE), Number Percent (SE), Number.1  \n",
       "0  16.3 (0.73), 4.7 million                    NaN  "
      ]
     },
     "execution_count": 8,
     "metadata": {},
     "output_type": "execute_result"
    }
   ],
   "source": [
    "tables[2]"
   ]
  },
  {
   "cell_type": "code",
   "execution_count": 9,
   "id": "5c2c2d46",
   "metadata": {},
   "outputs": [
    {
     "data": {
      "text/plain": [
       "MultiIndex([('Unnamed: 0_level_0',     'Unnamed: 0_level_1'),\n",
       "            (         '2015-2019',   'Percent (SE), Number'),\n",
       "            (         '2015-2019', 'Percent (SE), Number.1')],\n",
       "           )"
      ]
     },
     "execution_count": 9,
     "metadata": {},
     "output_type": "execute_result"
    }
   ],
   "source": [
    "tables[2].columns"
   ]
  },
  {
   "cell_type": "code",
   "execution_count": 10,
   "id": "8a5a4d3b",
   "metadata": {},
   "outputs": [
    {
     "data": {
      "text/html": [
       "<div>\n",
       "<style scoped>\n",
       "    .dataframe tbody tr th:only-of-type {\n",
       "        vertical-align: middle;\n",
       "    }\n",
       "\n",
       "    .dataframe tbody tr th {\n",
       "        vertical-align: top;\n",
       "    }\n",
       "\n",
       "    .dataframe thead th {\n",
       "        text-align: right;\n",
       "    }\n",
       "</style>\n",
       "<table border=\"1\" class=\"dataframe\">\n",
       "  <thead>\n",
       "    <tr style=\"text-align: right;\">\n",
       "      <th></th>\n",
       "      <th>Unnamed: 0_level_1</th>\n",
       "    </tr>\n",
       "  </thead>\n",
       "  <tbody>\n",
       "    <tr>\n",
       "      <th>0</th>\n",
       "      <td>Percentage and number of currently married women 15-49 years of age who have impaired fecundity</td>\n",
       "    </tr>\n",
       "  </tbody>\n",
       "</table>\n",
       "</div>"
      ],
      "text/plain": [
       "                                                                                Unnamed: 0_level_1\n",
       "0  Percentage and number of currently married women 15-49 years of age who have impaired fecundity"
      ]
     },
     "execution_count": 10,
     "metadata": {},
     "output_type": "execute_result"
    }
   ],
   "source": [
    "tables[2][\"Unnamed: 0_level_0\"]"
   ]
  },
  {
   "cell_type": "code",
   "execution_count": 11,
   "id": "2026756d",
   "metadata": {},
   "outputs": [
    {
     "data": {
      "text/html": [
       "<div>\n",
       "<style scoped>\n",
       "    .dataframe tbody tr th:only-of-type {\n",
       "        vertical-align: middle;\n",
       "    }\n",
       "\n",
       "    .dataframe tbody tr th {\n",
       "        vertical-align: top;\n",
       "    }\n",
       "\n",
       "    .dataframe thead th {\n",
       "        text-align: right;\n",
       "    }\n",
       "</style>\n",
       "<table border=\"1\" class=\"dataframe\">\n",
       "  <thead>\n",
       "    <tr style=\"text-align: right;\">\n",
       "      <th></th>\n",
       "      <th>Percent (SE), Number</th>\n",
       "      <th>Percent (SE), Number.1</th>\n",
       "    </tr>\n",
       "  </thead>\n",
       "  <tbody>\n",
       "    <tr>\n",
       "      <th>0</th>\n",
       "      <td>16.3 (0.73), 4.7 million</td>\n",
       "      <td>NaN</td>\n",
       "    </tr>\n",
       "  </tbody>\n",
       "</table>\n",
       "</div>"
      ],
      "text/plain": [
       "       Percent (SE), Number  Percent (SE), Number.1\n",
       "0  16.3 (0.73), 4.7 million                     NaN"
      ]
     },
     "execution_count": 11,
     "metadata": {},
     "output_type": "execute_result"
    }
   ],
   "source": [
    "tables[2][\"2015-2019\"]"
   ]
  },
  {
   "cell_type": "code",
   "execution_count": 12,
   "id": "13676f99",
   "metadata": {},
   "outputs": [],
   "source": [
    "table2 = pd.DataFrame({\"name of numbers in 2015-2019\": [\"Percentage and number of currently married women 15-49 years of age who have impaired fecundity\"],\n",
    "              \"in percents\": [16.3], \"in millions\": [4.7]})"
   ]
  },
  {
   "cell_type": "markdown",
   "id": "f7ab1d0b",
   "metadata": {},
   "source": [
    "Above, the second table."
   ]
  },
  {
   "cell_type": "code",
   "execution_count": 13,
   "id": "3f8d795b",
   "metadata": {},
   "outputs": [
    {
     "data": {
      "text/html": [
       "<div>\n",
       "<style scoped>\n",
       "    .dataframe tbody tr th:only-of-type {\n",
       "        vertical-align: middle;\n",
       "    }\n",
       "\n",
       "    .dataframe tbody tr th {\n",
       "        vertical-align: top;\n",
       "    }\n",
       "\n",
       "    .dataframe thead tr th {\n",
       "        text-align: left;\n",
       "    }\n",
       "</style>\n",
       "<table border=\"1\" class=\"dataframe\">\n",
       "  <thead>\n",
       "    <tr>\n",
       "      <th></th>\n",
       "      <th>Unnamed: 0_level_0</th>\n",
       "      <th colspan=\"2\" halign=\"left\">2015-2019</th>\n",
       "    </tr>\n",
       "    <tr>\n",
       "      <th></th>\n",
       "      <th>Unnamed: 0_level_1</th>\n",
       "      <th>Percent (SE), Number</th>\n",
       "      <th>Percent (SE), Number.1</th>\n",
       "    </tr>\n",
       "  </thead>\n",
       "  <tbody>\n",
       "    <tr>\n",
       "      <th>0</th>\n",
       "      <td>Percentage and number of currently married women 15-49 years of age who are infertile (i.e., who are not surgically sterile, and have had at least 12 consecutive months of unprotected sexual intercourse without becoming pregnant)</td>\n",
       "      <td>8.5 (0.65), 2.4 million</td>\n",
       "      <td>NaN</td>\n",
       "    </tr>\n",
       "  </tbody>\n",
       "</table>\n",
       "</div>"
      ],
      "text/plain": [
       "                                                                                                                                                                                                                      Unnamed: 0_level_0  \\\n",
       "                                                                                                                                                                                                                      Unnamed: 0_level_1   \n",
       "0  Percentage and number of currently married women 15-49 years of age who are infertile (i.e., who are not surgically sterile, and have had at least 12 consecutive months of unprotected sexual intercourse without becoming pregnant)   \n",
       "\n",
       "                 2015-2019                         \n",
       "      Percent (SE), Number Percent (SE), Number.1  \n",
       "0  8.5 (0.65), 2.4 million                    NaN  "
      ]
     },
     "execution_count": 13,
     "metadata": {},
     "output_type": "execute_result"
    }
   ],
   "source": [
    "tables[4]"
   ]
  },
  {
   "cell_type": "code",
   "execution_count": 14,
   "id": "7da21ecc",
   "metadata": {},
   "outputs": [
    {
     "data": {
      "text/plain": [
       "MultiIndex([('Unnamed: 0_level_0',     'Unnamed: 0_level_1'),\n",
       "            (         '2015-2019',   'Percent (SE), Number'),\n",
       "            (         '2015-2019', 'Percent (SE), Number.1')],\n",
       "           )"
      ]
     },
     "execution_count": 14,
     "metadata": {},
     "output_type": "execute_result"
    }
   ],
   "source": [
    "tables[4].columns"
   ]
  },
  {
   "cell_type": "code",
   "execution_count": 15,
   "id": "bbeb98ed",
   "metadata": {},
   "outputs": [
    {
     "data": {
      "text/html": [
       "<div>\n",
       "<style scoped>\n",
       "    .dataframe tbody tr th:only-of-type {\n",
       "        vertical-align: middle;\n",
       "    }\n",
       "\n",
       "    .dataframe tbody tr th {\n",
       "        vertical-align: top;\n",
       "    }\n",
       "\n",
       "    .dataframe thead th {\n",
       "        text-align: right;\n",
       "    }\n",
       "</style>\n",
       "<table border=\"1\" class=\"dataframe\">\n",
       "  <thead>\n",
       "    <tr style=\"text-align: right;\">\n",
       "      <th></th>\n",
       "      <th>Unnamed: 0_level_1</th>\n",
       "    </tr>\n",
       "  </thead>\n",
       "  <tbody>\n",
       "    <tr>\n",
       "      <th>0</th>\n",
       "      <td>Percentage and number of currently married women 15-49 years of age who are infertile (i.e., who are not surgically sterile, and have had at least 12 consecutive months of unprotected sexual intercourse without becoming pregnant)</td>\n",
       "    </tr>\n",
       "  </tbody>\n",
       "</table>\n",
       "</div>"
      ],
      "text/plain": [
       "                                                                                                                                                                                                                      Unnamed: 0_level_1\n",
       "0  Percentage and number of currently married women 15-49 years of age who are infertile (i.e., who are not surgically sterile, and have had at least 12 consecutive months of unprotected sexual intercourse without becoming pregnant)"
      ]
     },
     "execution_count": 15,
     "metadata": {},
     "output_type": "execute_result"
    }
   ],
   "source": [
    "tables[4][\"Unnamed: 0_level_0\"]"
   ]
  },
  {
   "cell_type": "code",
   "execution_count": 16,
   "id": "29c18021",
   "metadata": {},
   "outputs": [
    {
     "data": {
      "text/html": [
       "<div>\n",
       "<style scoped>\n",
       "    .dataframe tbody tr th:only-of-type {\n",
       "        vertical-align: middle;\n",
       "    }\n",
       "\n",
       "    .dataframe tbody tr th {\n",
       "        vertical-align: top;\n",
       "    }\n",
       "\n",
       "    .dataframe thead th {\n",
       "        text-align: right;\n",
       "    }\n",
       "</style>\n",
       "<table border=\"1\" class=\"dataframe\">\n",
       "  <thead>\n",
       "    <tr style=\"text-align: right;\">\n",
       "      <th></th>\n",
       "      <th>Percent (SE), Number</th>\n",
       "      <th>Percent (SE), Number.1</th>\n",
       "    </tr>\n",
       "  </thead>\n",
       "  <tbody>\n",
       "    <tr>\n",
       "      <th>0</th>\n",
       "      <td>8.5 (0.65), 2.4 million</td>\n",
       "      <td>NaN</td>\n",
       "    </tr>\n",
       "  </tbody>\n",
       "</table>\n",
       "</div>"
      ],
      "text/plain": [
       "      Percent (SE), Number  Percent (SE), Number.1\n",
       "0  8.5 (0.65), 2.4 million                     NaN"
      ]
     },
     "execution_count": 16,
     "metadata": {},
     "output_type": "execute_result"
    }
   ],
   "source": [
    "tables[4][\"2015-2019\"]"
   ]
  },
  {
   "cell_type": "code",
   "execution_count": 17,
   "id": "9fd14a4a",
   "metadata": {},
   "outputs": [],
   "source": [
    "table3 = pd.DataFrame({\"name of numbers in 2015-2019\": [\"Percentage and number of currently married women 15-49 years of age who are infertile (i.e., who are not surgically sterile, and have had at least 12 consecutive months of unprotected sexual intercourse without becoming pregnant)\"],\n",
    "              \"in percents\": [8.5], \"in millions\": [2.4]})"
   ]
  },
  {
   "cell_type": "markdown",
   "id": "78f597d9",
   "metadata": {},
   "source": [
    "Above, the third table."
   ]
  },
  {
   "cell_type": "code",
   "execution_count": 18,
   "id": "3f5771b5",
   "metadata": {},
   "outputs": [
    {
     "data": {
      "text/html": [
       "<div>\n",
       "<style scoped>\n",
       "    .dataframe tbody tr th:only-of-type {\n",
       "        vertical-align: middle;\n",
       "    }\n",
       "\n",
       "    .dataframe tbody tr th {\n",
       "        vertical-align: top;\n",
       "    }\n",
       "\n",
       "    .dataframe thead th {\n",
       "        text-align: right;\n",
       "    }\n",
       "</style>\n",
       "<table border=\"1\" class=\"dataframe\">\n",
       "  <thead>\n",
       "    <tr style=\"text-align: right;\">\n",
       "      <th></th>\n",
       "      <th>name of numbers in 2015-2019</th>\n",
       "      <th>in percents</th>\n",
       "      <th>in millions</th>\n",
       "    </tr>\n",
       "  </thead>\n",
       "  <tbody>\n",
       "    <tr>\n",
       "      <th>0</th>\n",
       "      <td>Percentage and number of women 15-49 years of age (of all marital statuses) who have impaired fecundity (i.e., who are not surgically sterile, and for whom it is difficult or impossible to get pregnant or carry a pregnancy to term</td>\n",
       "      <td>13.4</td>\n",
       "      <td>9.7</td>\n",
       "    </tr>\n",
       "  </tbody>\n",
       "</table>\n",
       "</div>"
      ],
      "text/plain": [
       "                                                                                                                                                                                                             name of numbers in 2015-2019  \\\n",
       "0  Percentage and number of women 15-49 years of age (of all marital statuses) who have impaired fecundity (i.e., who are not surgically sterile, and for whom it is difficult or impossible to get pregnant or carry a pregnancy to term   \n",
       "\n",
       "   in percents  in millions  \n",
       "0         13.4          9.7  "
      ]
     },
     "execution_count": 18,
     "metadata": {},
     "output_type": "execute_result"
    }
   ],
   "source": [
    "table1"
   ]
  },
  {
   "cell_type": "code",
   "execution_count": 19,
   "id": "6882476e",
   "metadata": {},
   "outputs": [
    {
     "data": {
      "text/html": [
       "<div>\n",
       "<style scoped>\n",
       "    .dataframe tbody tr th:only-of-type {\n",
       "        vertical-align: middle;\n",
       "    }\n",
       "\n",
       "    .dataframe tbody tr th {\n",
       "        vertical-align: top;\n",
       "    }\n",
       "\n",
       "    .dataframe thead th {\n",
       "        text-align: right;\n",
       "    }\n",
       "</style>\n",
       "<table border=\"1\" class=\"dataframe\">\n",
       "  <thead>\n",
       "    <tr style=\"text-align: right;\">\n",
       "      <th></th>\n",
       "      <th>name of numbers in 2015-2019</th>\n",
       "      <th>in percents</th>\n",
       "      <th>in millions</th>\n",
       "    </tr>\n",
       "  </thead>\n",
       "  <tbody>\n",
       "    <tr>\n",
       "      <th>0</th>\n",
       "      <td>Percentage and number of currently married women 15-49 years of age who have impaired fecundity</td>\n",
       "      <td>16.3</td>\n",
       "      <td>4.7</td>\n",
       "    </tr>\n",
       "  </tbody>\n",
       "</table>\n",
       "</div>"
      ],
      "text/plain": [
       "                                                                      name of numbers in 2015-2019  \\\n",
       "0  Percentage and number of currently married women 15-49 years of age who have impaired fecundity   \n",
       "\n",
       "   in percents  in millions  \n",
       "0         16.3          4.7  "
      ]
     },
     "execution_count": 19,
     "metadata": {},
     "output_type": "execute_result"
    }
   ],
   "source": [
    "table2"
   ]
  },
  {
   "cell_type": "code",
   "execution_count": 20,
   "id": "dd08b1c5",
   "metadata": {},
   "outputs": [
    {
     "data": {
      "text/html": [
       "<div>\n",
       "<style scoped>\n",
       "    .dataframe tbody tr th:only-of-type {\n",
       "        vertical-align: middle;\n",
       "    }\n",
       "\n",
       "    .dataframe tbody tr th {\n",
       "        vertical-align: top;\n",
       "    }\n",
       "\n",
       "    .dataframe thead th {\n",
       "        text-align: right;\n",
       "    }\n",
       "</style>\n",
       "<table border=\"1\" class=\"dataframe\">\n",
       "  <thead>\n",
       "    <tr style=\"text-align: right;\">\n",
       "      <th></th>\n",
       "      <th>name of numbers in 2015-2019</th>\n",
       "      <th>in percents</th>\n",
       "      <th>in millions</th>\n",
       "    </tr>\n",
       "  </thead>\n",
       "  <tbody>\n",
       "    <tr>\n",
       "      <th>0</th>\n",
       "      <td>Percentage and number of currently married women 15-49 years of age who are infertile (i.e., who are not surgically sterile, and have had at least 12 consecutive months of unprotected sexual intercourse without becoming pregnant)</td>\n",
       "      <td>8.5</td>\n",
       "      <td>2.4</td>\n",
       "    </tr>\n",
       "  </tbody>\n",
       "</table>\n",
       "</div>"
      ],
      "text/plain": [
       "                                                                                                                                                                                                            name of numbers in 2015-2019  \\\n",
       "0  Percentage and number of currently married women 15-49 years of age who are infertile (i.e., who are not surgically sterile, and have had at least 12 consecutive months of unprotected sexual intercourse without becoming pregnant)   \n",
       "\n",
       "   in percents  in millions  \n",
       "0          8.5          2.4  "
      ]
     },
     "execution_count": 20,
     "metadata": {},
     "output_type": "execute_result"
    }
   ],
   "source": [
    "table3"
   ]
  },
  {
   "cell_type": "markdown",
   "id": "5e24840d",
   "metadata": {},
   "source": [
    "I need more data and different kind of data, this is not enough. "
   ]
  },
  {
   "cell_type": "markdown",
   "id": "f133e85f",
   "metadata": {},
   "source": [
    "<p style=\"text-align: left; color: gray\"> ...more will follow soon"
   ]
  },
  {
   "cell_type": "markdown",
   "id": "048ef5f1",
   "metadata": {},
   "source": [
    "References:\n",
    "1. Data: https://www.cdc.gov/nchs/nsfg/key_statistics/i-keystat.htm#infertility\n",
    "2. SingleCare’s infertility survey: https://www.singlecare.com/blog/news/infertility-survey/"
   ]
  }
 ],
 "metadata": {
  "kernelspec": {
   "display_name": "Python 3 (ipykernel)",
   "language": "python",
   "name": "python3"
  },
  "language_info": {
   "codemirror_mode": {
    "name": "ipython",
    "version": 3
   },
   "file_extension": ".py",
   "mimetype": "text/x-python",
   "name": "python",
   "nbconvert_exporter": "python",
   "pygments_lexer": "ipython3",
   "version": "3.9.13"
  }
 },
 "nbformat": 4,
 "nbformat_minor": 5
}
