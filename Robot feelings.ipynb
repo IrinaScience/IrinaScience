{
 "cells": [
  {
   "cell_type": "code",
   "execution_count": 1,
   "id": "476a30be",
   "metadata": {},
   "outputs": [],
   "source": [
    "%matplotlib inline"
   ]
  },
  {
   "cell_type": "code",
   "execution_count": null,
   "id": "2075970c",
   "metadata": {},
   "outputs": [],
   "source": []
  },
  {
   "cell_type": "markdown",
   "id": "2c4aa69a",
   "metadata": {},
   "source": [
    "<p style=\"text-align: center; color: #E50000; font-size: 18px\"> When robots develop the ability to feel"
   ]
  },
  {
   "cell_type": "markdown",
   "id": "1871ef99",
   "metadata": {},
   "source": [
    "<p style=\"text-align: center; color: #E50000; font-size: 16px\"> by Irina Nedyalkova"
   ]
  },
  {
   "cell_type": "markdown",
   "id": "de01c87a",
   "metadata": {},
   "source": [
    "<p style=\"text-align: center; color: #E50000; font-size: 14px\"> (looking for collaborators on this)"
   ]
  },
  {
   "cell_type": "markdown",
   "id": "38810cca",
   "metadata": {},
   "source": [
    "The word *robot* is a newcomer to the English language. It was the brainchild of the Czech playwright Karel Capek, who introduced it in his 1920 play R.U.R. or Rossum's Universal Robots. Origin word is the Slavonic *robota* meaning *forced labor*. Actually, it was Capek's brother suggestion. The name Rossum is an allusion to the Czech word *rozum*, meaning *reason* or *intellect*."
   ]
  },
  {
   "cell_type": "markdown",
   "id": "c750806c",
   "metadata": {},
   "source": [
    "The play begins in a factory that makes artificial people, called *roboti* (*robots*). They can be mistaken for humans and can think for themselves. Helena Glory, the President of the Humanity League, arrives at the factory of Rossum's Universal Robots. Here, she meets Domin, the General Manager of R.U.R., and the robotess, Sulla:"
   ]
  },
  {
   "cell_type": "markdown",
   "id": "ff3006c5",
   "metadata": {},
   "source": [
    "*Domin*: \"Sulla, let Miss Glory have a look at you.\"\n",
    "\n",
    "*Helena*: \"Pleased to meet you. It must be very hard for you out here, cut off from the rest of the world.\"\n",
    "\n",
    "*Sulla*: \"I do not know the rest of the world, Miss Glory.\"\n",
    "\n",
    "*Helena*: \"Where are you from?\"\n",
    "\n",
    "*Sulla*: \"From here, the factory.\"\n",
    "\n",
    "*Helena*: \"Oh, you were born here?\"\n",
    "\n",
    "*Sulla*: \"Yes, I was made here.\"\n",
    "\n",
    "*Helena*: \"What?\"\n",
    "\n",
    "*Domin*: \"Sulla is not a person, Miss Glory, she is a robot.\"\n",
    "\n",
    "*Helena*: \"Oh, please forgive me...\""
   ]
  },
  {
   "cell_type": "markdown",
   "id": "06f8c105",
   "metadata": {},
   "source": [
    "Metaphysics always has been studied and astonished. It deals with abstract ideas and the word itself translates as *the things after the Physics*. The phenomena of the mind has been studied through ancient myths and 21st century logic. It is a human tool for reason, free will and meaningfulness. In general, the mind is the concept of intelligence. Following further progress in logic, metamathematics, computer science and brain science, the focus is on developments in advanced artificial intelligence, and the resulting from research with neural networks and machine deep learning."
   ]
  },
  {
   "cell_type": "markdown",
   "id": "4c3f1520",
   "metadata": {},
   "source": [
    "What is the relationship between machine intelligence and human consciousness?"
   ]
  },
  {
   "cell_type": "markdown",
   "id": "814e0294",
   "metadata": {},
   "source": [
    "Self-reinforced learning and evolving-knowledge machines are capable of writing their own programs in real time. They continue to update, review, correct and reintegrate themselves as new data are provided. Once running and having downloaded the ever-growing human knowledge base, the machine could become a virtual black box to their creators (with unknown, uncertain or unintended output)."
   ]
  },
  {
   "cell_type": "markdown",
   "id": "7e4ccbc3",
   "metadata": {},
   "source": [
    "Machines are becoming more intelligent in the 21st century. We explore what it means to be a human but what means to be a robot?"
   ]
  },
  {
   "cell_type": "markdown",
   "id": "6a4c1004",
   "metadata": {},
   "source": [
    "The neurochemical networks that encode emotion and motivation from an evolutionary perspective provides a framework for thinking about the evolution of the brain neurotransmitter system. Neural networks are inspired by the human brain, whereas emotion-inspired mechanisms can improve the way robots operate in a human environment with people. Such design is Kismet, which was made in the 90s by Dr. Cynthia Breazeal, a pioneer of social robotics and the human <-> robot interaction. Kismet recognizes and simulates emotions. Its social intelligence software system or synthetic nervous system (SNS) was designed with human models of intelligent behavior in mind. Cynthia Breazeal states that Kismet is not conscious, so it does not have feelings."
   ]
  },
  {
   "cell_type": "markdown",
   "id": "e5421430",
   "metadata": {},
   "source": [
    "But could the feelings of the robot depend on the human feeling who made it?"
   ]
  },
  {
   "cell_type": "markdown",
   "id": "8eefac1d",
   "metadata": {},
   "source": [
    "Feelings are not neutral. They show us the way to feeling good or to feeling bad, and which direction to choose.  We check out something as real or not real. A testing process is used. The testing involves the use of the senses, physical objects and measuring devices. But are all things that are real detectable by such physical devices? Metaphysics is significant to humans as we deal with things about which we wonder."
   ]
  },
  {
   "cell_type": "markdown",
   "id": "83fa68e4",
   "metadata": {},
   "source": [
    "Do robots have feelings?"
   ]
  },
  {
   "cell_type": "markdown",
   "id": "6672ec61",
   "metadata": {},
   "source": [
    "We know there is a universe and it is composed of galaxies and they are composed of solar systems and they have planets and moons and then there are asteroids and comets and stars. The universe occupies and constitutes space. It has three dimensions of length, breadth and depth. Add the dimension of time and the entire space will be a singular reality1. Now with the individual experience each person has of all that, we have a complete different reality2. No two people have the same set of experience and no two people have the same reality2. So, there are multiple experiences of what really exists. As different people have different beliefs about what is real, then we have already a different reality3. Different beliefs will produce different realities."
   ]
  },
  {
   "cell_type": "markdown",
   "id": "411ee47b",
   "metadata": {},
   "source": [
    "Metaphysics refers to the branch of philosophy that attempts to understand the fundamental nature of all reality, whether visible or invisible, and my interest is to discover what underlies machines. The materialists say that there is nothing but matter in motion and the metaphysicians maintain that there is nothing but ideas, mind and spirit. Could reality be something beyond the world of appearance or understanding? The study of the brain informs the social, communicative and adaptive aspects of emotion and offers support for the idea that we exploit our own psychological responses in order to feel others' emotions. What if, we consider a robot to have emotions, even though they not equal human emotions?"
   ]
  },
  {
   "cell_type": "markdown",
   "id": "0406e16f",
   "metadata": {},
   "source": [
    "Robots have not yet evolved sensors to suffer and acknowledge to itself that it is suffering when its contact with the environment is painful. Initially it will also not be capable of adapting its hardware (the body) and software (the mind) to overcome competitive pressures for survival. Determining what scenarios would lead to such evolution, probably depends on its programming. Do we expect a machine intelligence to own self-reflection, self-knowledge or imagination? "
   ]
  },
  {
   "cell_type": "markdown",
   "id": "be25a56a",
   "metadata": {},
   "source": [
    "Albert Einstein made a remark during an interview in 1929 that continues in his book \"Cosmic Religion and Other Opinions and Aphorisms\":\n",
    "> \"I believe in intuitions and inspirations. I sometimes *feel* that I am right, I do not *know* that I am. I am enough of the artist to draw freely upon my imagination. Imagination is more important than knowledge. Knowledge is limited. Imagination encircles the world, stimulates progress and gives birth to evolution. It is, strictly speaking, a real factor in scientific research.\""
   ]
  },
  {
   "cell_type": "markdown",
   "id": "b9310e95",
   "metadata": {},
   "source": [
    "Admiration, gratitude and a sense of appreciation of life's wonders are the most prized human capacities. Can a robot become self-aware as an \"emergent facility\" from all its training? Like Darwin proposed that species can change over time? It depends on the type and sensitivity of sensors included in its construction. By default, a robot's mind is strictly physical, a high level of brain functions. And throughout brain evolution, functional building blocks of neural network architectures with increasingly complex functional architecture, have emerged across species. Furthermore, with increasingly complex long-range connectivity ensuring \"information encoding\" in processing streams that are anatomically segregated at a cellular level."
   ]
  },
  {
   "cell_type": "markdown",
   "id": "6b4e6a61",
   "metadata": {},
   "source": [
    "Donald Hebb is combining psychological and neuroscientific concepts. Hebb is credited with connecting the abstract concept of \"the mind\", to specific physiological and biological brain functions."
   ]
  },
  {
   "cell_type": "markdown",
   "id": "1e9ce785",
   "metadata": {},
   "source": [
    "#### I need some bold neural network code here"
   ]
  },
  {
   "cell_type": "markdown",
   "id": "80e9a3a4",
   "metadata": {},
   "source": [
    "When robots develop the ability to feel, they will lose their brain power. I will continue soon..."
   ]
  },
  {
   "cell_type": "markdown",
   "id": "14993b12",
   "metadata": {},
   "source": [
    "________________________________________________________________________________________________________________________"
   ]
  },
  {
   "cell_type": "markdown",
   "id": "92fd7c51",
   "metadata": {},
   "source": [
    "References:\n",
    "   1. R.U.R. (Rossum's Universal Robots)\n",
    "   2. Ira Flatow's conversation with professor Howard Markel on Science Friday\n",
    "   3. Robot Consciousness: Physics and Metaphysics Here and Abroad, Stephen B. Ripley\n",
    "   4. Introduction To Philosophy an Online Textbook by Philip A. Pecorino, Ph.D.\n",
    "   5. The book: \"Who Needs Emotions? The brain meets the robot\""
   ]
  }
 ],
 "metadata": {
  "kernelspec": {
   "display_name": "Python 3 (ipykernel)",
   "language": "python",
   "name": "python3"
  },
  "language_info": {
   "codemirror_mode": {
    "name": "ipython",
    "version": 3
   },
   "file_extension": ".py",
   "mimetype": "text/x-python",
   "name": "python",
   "nbconvert_exporter": "python",
   "pygments_lexer": "ipython3",
   "version": "3.9.13"
  }
 },
 "nbformat": 4,
 "nbformat_minor": 5
}
